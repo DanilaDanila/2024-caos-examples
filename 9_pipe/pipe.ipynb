{
 "cells": [
  {
   "cell_type": "code",
   "execution_count": null,
   "id": "c5fc9199-a9c7-49df-b094-4260d052fd05",
   "metadata": {
    "editable": true,
    "slideshow": {
     "slide_type": ""
    },
    "tags": []
   },
   "outputs": [
    {
     "name": "stdout",
     "output_type": "stream",
     "text": [
      "[NbConvertApp] Converting notebook pipe.ipynb to slides\n",
      "[NbConvertApp] Writing 273854 bytes to pipe.slides.html\n",
      "[NbConvertApp] Redirecting reveal.js requests to https://cdnjs.cloudflare.com/ajax/libs/reveal.js/3.5.0\n",
      "Serving your slides at http://127.0.0.1:8000/pipe.slides.html\n",
      "Use Control-C to stop this server\n",
      "404 GET /favicon.ico (127.0.0.1) 0.56ms\n"
     ]
    }
   ],
   "source": [
    "!jupyter nbconvert pipe.ipynb --to slides --post serve"
   ]
  },
  {
   "cell_type": "markdown",
   "id": "4bd6207e-ea04-4ec7-b32d-b3f6b28beccc",
   "metadata": {
    "editable": true,
    "slideshow": {
     "slide_type": "slide"
    },
    "tags": []
   },
   "source": [
    "# Pipe"
   ]
  },
  {
   "cell_type": "markdown",
   "id": "2781acc5-8f4e-4500-abee-c7d3d38bdfd6",
   "metadata": {
    "editable": true,
    "slideshow": {
     "slide_type": "slide"
    },
    "tags": []
   },
   "source": [
    "## что такое pipe"
   ]
  },
  {
   "cell_type": "markdown",
   "id": "9918a9b3-b3fc-43e3-a411-5df1496825ec",
   "metadata": {
    "editable": true,
    "slideshow": {
     "slide_type": "slide"
    },
    "tags": []
   },
   "source": [
    "```bash\n",
    "echo 'hello' | cat | cat | cat\n",
    "```"
   ]
  },
  {
   "cell_type": "markdown",
   "id": "56af7d82-b648-44a6-b131-7bac01ae57a3",
   "metadata": {
    "editable": true,
    "slideshow": {
     "slide_type": "slide"
    },
    "tags": []
   },
   "source": [
    "## блокировки"
   ]
  },
  {
   "cell_type": "markdown",
   "id": "0abcfd66-d529-463a-8bec-884feba648ac",
   "metadata": {
    "editable": true,
    "slideshow": {
     "slide_type": "slide"
    },
    "tags": []
   },
   "source": [
    "## dup2"
   ]
  },
  {
   "cell_type": "markdown",
   "id": "dde99978-39ff-4bd8-bda0-4c2a2c9e15b7",
   "metadata": {
    "editable": true,
    "slideshow": {
     "slide_type": "slide"
    },
    "tags": []
   },
   "source": [
    "## eventfd"
   ]
  },
  {
   "cell_type": "markdown",
   "id": "c8d64dca-1509-4b7f-ac5b-dac5f79b550a",
   "metadata": {
    "editable": true,
    "slideshow": {
     "slide_type": "slide"
    },
    "tags": []
   },
   "source": [
    "## signalfd"
   ]
  },
  {
   "cell_type": "markdown",
   "id": "cf8f709f-6c56-47b2-bcaf-8c23dd688267",
   "metadata": {
    "editable": true,
    "slideshow": {
     "slide_type": "slide"
    },
    "tags": []
   },
   "source": [
    "გმადლობთ"
   ]
  }
 ],
 "metadata": {
  "kernelspec": {
   "display_name": "Python 3 (ipykernel)",
   "language": "python",
   "name": "python3"
  },
  "language_info": {
   "codemirror_mode": {
    "name": "ipython",
    "version": 3
   },
   "file_extension": ".py",
   "mimetype": "text/x-python",
   "name": "python",
   "nbconvert_exporter": "python",
   "pygments_lexer": "ipython3",
   "version": "3.12.7"
  }
 },
 "nbformat": 4,
 "nbformat_minor": 5
}
