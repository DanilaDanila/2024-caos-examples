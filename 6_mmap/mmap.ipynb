{
 "cells": [
  {
   "cell_type": "code",
   "execution_count": 1,
   "id": "25a1a05e-b625-4f4a-bb14-f50ae5b4bb98",
   "metadata": {
    "editable": true,
    "slideshow": {
     "slide_type": "skip"
    },
    "tags": []
   },
   "outputs": [
    {
     "name": "stdout",
     "output_type": "stream",
     "text": [
      "[NbConvertApp] Converting notebook mmap.ipynb to slides\n",
      "[NbConvertApp] Writing 280519 bytes to mmap.slides.html\n",
      "[NbConvertApp] Redirecting reveal.js requests to https://cdnjs.cloudflare.com/ajax/libs/reveal.js/3.5.0\n",
      "Serving your slides at http://127.0.0.1:8000/mmap.slides.html\n",
      "Use Control-C to stop this server\n",
      "404 GET /notes/static/sems/mmap/vaddr.png (127.0.0.1) 0.97ms\n",
      "404 GET /notes/static/sems/mmap/pages.png (127.0.0.1) 0.92ms\n",
      "404 GET /notes/static/sems/mmap/pointer_pages.png (127.0.0.1) 0.52ms\n",
      "404 GET /notes/static/sems/mmap/pointer.png (127.0.0.1) 0.58ms\n",
      "^C\n",
      "\n",
      "Interrupted\n"
     ]
    }
   ],
   "source": [
    "!jupyter nbconvert mmap.ipynb --to slides --post serve"
   ]
  },
  {
   "cell_type": "markdown",
   "id": "4f7e9230-7a69-4c0b-b038-59afcd3991a7",
   "metadata": {
    "editable": true,
    "slideshow": {
     "slide_type": "slide"
    },
    "tags": []
   },
   "source": [
    "# MMAP"
   ]
  },
  {
   "cell_type": "markdown",
   "id": "5060ddaa-a2b8-4992-8544-b8e6a98992b0",
   "metadata": {
    "editable": true,
    "slideshow": {
     "slide_type": "slide"
    },
    "tags": []
   },
   "source": [
    "## Виртуальная и физическая память"
   ]
  },
  {
   "cell_type": "markdown",
   "id": "adb40609-7e60-4d26-9fba-5a7b3777ea63",
   "metadata": {
    "editable": true,
    "slideshow": {
     "slide_type": "subslide"
    },
    "tags": []
   },
   "source": [
    "- Физическая делится на **фреймы** одинакового размера (по 4096 байт в x86)\n",
    "- Виртуальная память делится на **страницы** такого же размера\n",
    "- В каждом виртуальном адресном пространстве каждой странице _может_ соответствовать какой-то фрейм"
   ]
  },
  {
   "cell_type": "markdown",
   "id": "05c0f616-264c-4a78-b3fb-baa53030c779",
   "metadata": {
    "editable": true,
    "slideshow": {
     "slide_type": "subslide"
    },
    "tags": []
   },
   "source": [
    "![vaddr](../notes/static/sems/mmap/vaddr.png)"
   ]
  },
  {
   "cell_type": "markdown",
   "id": "2740e733-b142-4397-9b32-9980ae52c2be",
   "metadata": {
    "editable": true,
    "slideshow": {
     "slide_type": "subslide"
    },
    "tags": []
   },
   "source": [
    "- с помощью 12 бит (`4096 = 2^12`) можно адресовать любую ячейку."
   ]
  },
  {
   "cell_type": "markdown",
   "id": "c131d706-ec9a-497c-bc47-d8dc200c6d37",
   "metadata": {
    "editable": true,
    "slideshow": {
     "slide_type": "fragment"
    },
    "tags": []
   },
   "source": [
    "- значит что самих страниц может быть `2^64 / 2^12 = 2^52` штук."
   ]
  },
  {
   "cell_type": "markdown",
   "id": "b9bc86f6-bd6c-46a5-836c-619faca19c09",
   "metadata": {
    "editable": true,
    "slideshow": {
     "slide_type": "fragment"
    },
    "tags": []
   },
   "source": [
    "- если адрес страницы = `2^8`бита (размер регистра), и это надо где-то хранить"
   ]
  },
  {
   "cell_type": "markdown",
   "id": "c29e503d-5b51-4e93-991b-1e40ee2eb73e",
   "metadata": {
    "editable": true,
    "slideshow": {
     "slide_type": "fragment"
    },
    "tags": []
   },
   "source": [
    "- адреса самих страниц понадобится `2^64` байт памяти, а это примерно... ооочень много... (`2^10` - кило, `2^20` - мега `2^30` - гига, `2^40` - тера)"
   ]
  },
  {
   "cell_type": "markdown",
   "id": "2a683302-9eeb-4228-a971-5f8057098f20",
   "metadata": {
    "editable": true,
    "slideshow": {
     "slide_type": "subslide"
    },
    "tags": []
   },
   "source": [
    "## Табличная адресация"
   ]
  },
  {
   "cell_type": "markdown",
   "id": "1ae6c3dc-b229-4ca2-9f9b-3db398659db1",
   "metadata": {
    "editable": true,
    "slideshow": {
     "slide_type": ""
    },
    "tags": []
   },
   "source": [
    "![pages](../notes/static/sems/mmap/pages.png)"
   ]
  },
  {
   "cell_type": "markdown",
   "id": "336453d9-edb8-4246-94a8-79e48de5ba8f",
   "metadata": {
    "editable": true,
    "slideshow": {
     "slide_type": "subslide"
    },
    "tags": []
   },
   "source": [
    "![pointer](../notes/static/sems/mmap/pointer.png)"
   ]
  },
  {
   "cell_type": "markdown",
   "id": "8794c27c-0674-41a6-bb55-5e7e3d189f76",
   "metadata": {
    "editable": true,
    "slideshow": {
     "slide_type": "subslide"
    },
    "tags": []
   },
   "source": [
    "Помните, что страницы имеют размер 4K?\n",
    "\n",
    "А значит младшие 12 **бит** (`2^12 = 4096`) у нас нули."
   ]
  },
  {
   "cell_type": "markdown",
   "id": "bc38339b-cc81-4084-a841-8fcda36752dc",
   "metadata": {
    "editable": true,
    "slideshow": {
     "slide_type": "fragment"
    },
    "tags": []
   },
   "source": [
    "Вместо нулей хранятся флаги. Флаги отвечают за правад доступа к странице"
   ]
  },
  {
   "cell_type": "markdown",
   "id": "2a2f3330-9385-458d-92ad-de0000a4812d",
   "metadata": {
    "editable": true,
    "slideshow": {
     "slide_type": "fragment"
    },
    "tags": []
   },
   "source": [
    "(`PTE` - это `Page Table Entity` вроде...)\n",
    "- `PTE_PRESENT` - флаг существования страницы (1 - да / 0 - нет)\n",
    "- `PTE_WRITE` - разрешение на запись\n",
    "- `PTE_USER` - доступность страницы из userspace-а\n",
    "- ..."
   ]
  },
  {
   "cell_type": "markdown",
   "id": "bd1e2fce-b426-4200-b525-baecc4aa1b24",
   "metadata": {
    "editable": true,
    "slideshow": {
     "slide_type": "slide"
    },
    "tags": []
   },
   "source": [
    "# mmap(...)"
   ]
  },
  {
   "cell_type": "markdown",
   "id": "684e6bb1-9e8d-4ea9-880e-ea50189aa7c8",
   "metadata": {
    "editable": true,
    "slideshow": {
     "slide_type": "subslide"
    },
    "tags": []
   },
   "source": [
    "```c\n",
    "void *mmap(\n",
    "    void *addr,  // адресс, \"в куда\" отображать память\n",
    "\n",
    "    size_t len,  // размер куска отображаемой памяти\n",
    "\n",
    "    int prot,    // разрешения на этот кусок памяти\n",
    "                 // PROT_NONE / PROT_READ / PROT_WRITE / PROT_EXEC\n",
    "\n",
    "    int flags,   // прочие флаги и видимость для внешних процессов\n",
    "                 // MAP_FIXED и MAP_SHARED / MAP_PRIVATE\n",
    "\n",
    "    int fildes,  // файловый дескриптор, либо спец. значение\n",
    "    off_t off,   // смещение относительно начала файла\n",
    ");\n",
    "```"
   ]
  }
 ],
 "metadata": {
  "kernelspec": {
   "display_name": "Python 3 (ipykernel)",
   "language": "python",
   "name": "python3"
  },
  "language_info": {
   "codemirror_mode": {
    "name": "ipython",
    "version": 3
   },
   "file_extension": ".py",
   "mimetype": "text/x-python",
   "name": "python",
   "nbconvert_exporter": "python",
   "pygments_lexer": "ipython3",
   "version": "3.12.6"
  }
 },
 "nbformat": 4,
 "nbformat_minor": 5
}
