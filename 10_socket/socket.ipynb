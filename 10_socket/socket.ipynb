{
 "cells": [
  {
   "cell_type": "code",
   "execution_count": null,
   "id": "20c6ee66-d5cb-441a-9a09-a9b23c3e3e55",
   "metadata": {
    "editable": true,
    "slideshow": {
     "slide_type": "skip"
    },
    "tags": []
   },
   "outputs": [
    {
     "name": "stdout",
     "output_type": "stream",
     "text": [
      "[NbConvertApp] Converting notebook socket.ipynb to slides\n",
      "[NbConvertApp] Writing 309969 bytes to socket.slides.html\n",
      "[NbConvertApp] Redirecting reveal.js requests to https://cdnjs.cloudflare.com/ajax/libs/reveal.js/3.5.0\n",
      "Serving your slides at http://127.0.0.1:8000/socket.slides.html\n",
      "Use Control-C to stop this server\n"
     ]
    }
   ],
   "source": [
    "!jupyter nbconvert socket.ipynb --to slides --post serve"
   ]
  },
  {
   "cell_type": "markdown",
   "id": "38b78dae-e0d3-4b67-bfcc-021661c73031",
   "metadata": {
    "editable": true,
    "slideshow": {
     "slide_type": "slide"
    },
    "tags": []
   },
   "source": [
    "# Сети - 1"
   ]
  },
  {
   "cell_type": "markdown",
   "id": "79a0bfd6-f170-4907-a504-251c4cfad376",
   "metadata": {
    "editable": true,
    "slideshow": {
     "slide_type": "slide"
    },
    "tags": []
   },
   "source": [
    "# man 2 socketpair"
   ]
  },
  {
   "cell_type": "markdown",
   "id": "c2fba67e-f0b5-4385-bf9b-8c6107acc15a",
   "metadata": {
    "editable": true,
    "slideshow": {
     "slide_type": "subslide"
    },
    "tags": []
   },
   "source": [
    "- почти как pipe"
   ]
  },
  {
   "cell_type": "markdown",
   "id": "62689820-53e4-413e-b34f-286d22501fd8",
   "metadata": {
    "editable": true,
    "slideshow": {
     "slide_type": "fragment"
    },
    "tags": []
   },
   "source": [
    "- но лучше, чем pipe"
   ]
  },
  {
   "cell_type": "markdown",
   "id": "e3caee2c-407a-420d-93f4-7e69bbe849fb",
   "metadata": {
    "editable": true,
    "slideshow": {
     "slide_type": "fragment"
    },
    "tags": []
   },
   "source": [
    "- можно общаться в обе стороны"
   ]
  },
  {
   "cell_type": "markdown",
   "id": "f61183a4-aa65-45bf-b310-aa9b0dd90868",
   "metadata": {
    "editable": true,
    "slideshow": {
     "slide_type": "fragment"
    },
    "tags": []
   },
   "source": [
    "```c\n",
    "int socket[2];\n",
    "socketpair(PF_LOCAL, SOCK_STREAM, 0, socket);  // ошибку нужно обработать\n",
    "\n",
    "// CHILD PROCESS //\n",
    "\n",
    "// пишем в одну сторону\n",
    "char msg[] = \"hello, parent\";\n",
    "write(socket[1], msg, sizeof(msg));\n",
    "\n",
    "// читаем\n",
    "char buffer[128];\n",
    "int len = read(socket[1], buffer, sizeof(buffer));\n",
    "write(1, buffer, len);\n",
    "```"
   ]
  },
  {
   "cell_type": "markdown",
   "id": "c05235e1-04f0-49d0-8a24-9d10f236e124",
   "metadata": {
    "editable": true,
    "slideshow": {
     "slide_type": "subslide"
    },
    "tags": []
   },
   "source": [
    "## shutdown"
   ]
  },
  {
   "cell_type": "markdown",
   "id": "32092a21-30af-4bcf-8658-379e7f91dc77",
   "metadata": {
    "editable": true,
    "slideshow": {
     "slide_type": "fragment"
    },
    "tags": []
   },
   "source": [
    "```c\n",
    "shutdown(socket[1], SHUT_RDWR);\n",
    "close(socket[1]);\n",
    "```"
   ]
  },
  {
   "cell_type": "markdown",
   "id": "651dd0d9-57f3-4ab1-9cd7-f68148af73b7",
   "metadata": {
    "editable": true,
    "slideshow": {
     "slide_type": "slide"
    },
    "tags": []
   },
   "source": [
    "# ip адрес\n",
    "> без подробностей"
   ]
  },
  {
   "cell_type": "markdown",
   "id": "220ccfc0-ae5a-484e-8fa5-4a077a5f3c1a",
   "metadata": {
    "editable": true,
    "slideshow": {
     "slide_type": "subslide"
    },
    "tags": []
   },
   "source": [
    "## ip-v4"
   ]
  },
  {
   "cell_type": "markdown",
   "id": "2a221cbd-41b3-4e05-bc6c-de86eecdafe5",
   "metadata": {
    "editable": true,
    "slideshow": {
     "slide_type": "fragment"
    },
    "tags": []
   },
   "source": [
    "это 4 8-и битных чиселки"
   ]
  },
  {
   "cell_type": "markdown",
   "id": "e6c09a40-63cd-4f0e-b062-8ed0d49a2e92",
   "metadata": {
    "editable": true,
    "slideshow": {
     "slide_type": "fragment"
    },
    "tags": []
   },
   "source": [
    "- 127.0.0.1"
   ]
  },
  {
   "cell_type": "markdown",
   "id": "59036979-34eb-4939-b126-a34a26c20a34",
   "metadata": {
    "editable": true,
    "slideshow": {
     "slide_type": "fragment"
    },
    "tags": []
   },
   "source": [
    "- 192.168.1.0"
   ]
  },
  {
   "cell_type": "markdown",
   "id": "4bec9433-bb60-4b41-9f62-4695fc27c9cc",
   "metadata": {
    "editable": true,
    "slideshow": {
     "slide_type": "subslide"
    },
    "tags": []
   },
   "source": [
    "## ip-v6"
   ]
  },
  {
   "cell_type": "markdown",
   "id": "5dbcb565-31e9-4871-acb3-0c2d1b37912b",
   "metadata": {
    "editable": true,
    "slideshow": {
     "slide_type": "fragment"
    },
    "tags": []
   },
   "source": [
    "это 6 8-и битных чиселок)"
   ]
  },
  {
   "cell_type": "markdown",
   "id": "7c7cb190-4d31-4364-8124-c4d6c7d24453",
   "metadata": {
    "editable": true,
    "slideshow": {
     "slide_type": "fragment"
    },
    "tags": []
   },
   "source": [
    "- c2:eb:d9:6b:68:ad"
   ]
  },
  {
   "cell_type": "markdown",
   "id": "51fb55fb-64af-452b-a0a6-1c6da6334f9c",
   "metadata": {
    "editable": true,
    "slideshow": {
     "slide_type": "fragment"
    },
    "tags": []
   },
   "source": [
    "- 02:42:a3:a0:93:f9"
   ]
  },
  {
   "cell_type": "markdown",
   "id": "daa45cf6-ac50-4af7-b1ee-4af19d6a11d1",
   "metadata": {
    "editable": true,
    "slideshow": {
     "slide_type": "fragment"
    },
    "tags": []
   },
   "source": [
    "- а ещё про него сегодня не будет)"
   ]
  },
  {
   "cell_type": "markdown",
   "id": "336939cd-539f-4b9c-9aca-fbfe6191aaf5",
   "metadata": {
    "editable": true,
    "slideshow": {
     "slide_type": "slide"
    },
    "tags": []
   },
   "source": [
    "# Port"
   ]
  },
  {
   "cell_type": "markdown",
   "id": "7b281c8a-ca33-4576-8174-ab8fa4ffb385",
   "metadata": {
    "editable": true,
    "slideshow": {
     "slide_type": "subslide"
    },
    "tags": []
   },
   "source": [
    "## а зачем?"
   ]
  },
  {
   "cell_type": "markdown",
   "id": "02859ad4-7070-456b-8b89-a9cbbb1671ee",
   "metadata": {
    "editable": true,
    "slideshow": {
     "slide_type": "fragment"
    },
    "tags": []
   },
   "source": [
    "ip-адрес у нас один"
   ]
  },
  {
   "cell_type": "markdown",
   "id": "085bed20-2ff0-4ea7-be23-63844d73614e",
   "metadata": {
    "editable": true,
    "slideshow": {
     "slide_type": "fragment"
    },
    "tags": []
   },
   "source": [
    "да и то не совсем настоящий"
   ]
  },
  {
   "cell_type": "markdown",
   "id": "d21dcec9-40c3-4fcc-a2cb-bdb0b59034e9",
   "metadata": {
    "editable": true,
    "slideshow": {
     "slide_type": "fragment"
    },
    "tags": []
   },
   "source": [
    "а \"общаться\" с другими компами по сети тоже хочется"
   ]
  },
  {
   "cell_type": "markdown",
   "id": "f5dd5090-f866-4942-b043-48632ccff5a7",
   "metadata": {
    "editable": true,
    "slideshow": {
     "slide_type": "fragment"
    },
    "tags": []
   },
   "source": [
    "для решения таких проблем есть порты"
   ]
  },
  {
   "cell_type": "markdown",
   "id": "598b41ee-7a33-4cf9-a3ef-ef560ff5abea",
   "metadata": {
    "editable": true,
    "slideshow": {
     "slide_type": "subslide"
    },
    "tags": []
   },
   "source": [
    "## **порт** - это чиселка 16bit"
   ]
  },
  {
   "cell_type": "markdown",
   "id": "0f61d0d7-8209-4591-9486-7691487473f1",
   "metadata": {
    "editable": true,
    "slideshow": {
     "slide_type": "fragment"
    },
    "tags": []
   },
   "source": [
    "Есть некоторые зарезервированные порты\n",
    "- 20/21 FTP\n",
    "- 22 SSH\n",
    "- 25 SMTP (почта)\n",
    "- 80 HTTP\n",
    "- 443 HTTPS\n",
    "- ... (их много)"
   ]
  },
  {
   "cell_type": "markdown",
   "id": "54183fc4-76ae-4902-b94e-817e14c5b685",
   "metadata": {
    "editable": true,
    "slideshow": {
     "slide_type": "fragment"
    },
    "tags": []
   },
   "source": [
    "первые 1024 порта открывать может только root (0 не используется, так что 1023)"
   ]
  },
  {
   "cell_type": "markdown",
   "id": "213e731d-03fe-4348-bec8-1d95eb244fc7",
   "metadata": {
    "editable": true,
    "slideshow": {
     "slide_type": "fragment"
    },
    "tags": []
   },
   "source": [
    "1024 - 32767 можно открыть на подключение"
   ]
  },
  {
   "cell_type": "markdown",
   "id": "cd45c476-63ba-4e02-9d09-4938254ac852",
   "metadata": {
    "editable": true,
    "slideshow": {
     "slide_type": "fragment"
    },
    "tags": []
   },
   "source": [
    "32768 - 65535 (вроде) - порты для клиенских соединений; они открываются когда вы подключаетесь к какому-либо серверу"
   ]
  },
  {
   "cell_type": "markdown",
   "id": "1b5111c7-6a73-4e6d-95c6-0a9b75d3c1ce",
   "metadata": {
    "editable": true,
    "slideshow": {
     "slide_type": "slide"
    },
    "tags": []
   },
   "source": [
    "# Как подключиться к чему-нибудь?\n",
    "> по TCP"
   ]
  },
  {
   "cell_type": "markdown",
   "id": "2e05eda2-6873-4e4e-9d3b-797a37b8a307",
   "metadata": {
    "editable": true,
    "slideshow": {
     "slide_type": "subslide"
    },
    "tags": []
   },
   "source": [
    "нужно создать сокет\n",
    "\n",
    "```c\n",
    "// и обработать ошибку)\n",
    "int socket_fd = socket(AF_INET, SOCK_STREAM, 0);\n",
    "```"
   ]
  },
  {
   "cell_type": "markdown",
   "id": "690f4556-a5cd-479a-bddb-6213f17f58f7",
   "metadata": {
    "editable": true,
    "slideshow": {
     "slide_type": "fragment"
    },
    "tags": []
   },
   "source": [
    "создать структурку с описанием\n",
    "\n",
    "```c\n",
    "struct sockaddr_in addr = {\n",
    "    .sin_family = AF_INET,\n",
    "    .sin_port = htons(8888),  // это чтоб перевести в BIG ENDIAN\n",
    "    .sin_addr.s_addr = inet_addr(\"127.0.0.1\"),  // это тоже\n",
    "};\n",
    "```"
   ]
  },
  {
   "cell_type": "markdown",
   "id": "7f236727-2441-46cd-a621-83568f7ef5bc",
   "metadata": {
    "editable": true,
    "slideshow": {
     "slide_type": "fragment"
    },
    "tags": []
   },
   "source": [
    "подключиться\n",
    "\n",
    "```c\n",
    "// ну и ошибку обработать\n",
    "connect(socket_fd, (struct sockaddr*)(&addr), sizeof(addr)\n",
    "```"
   ]
  },
  {
   "cell_type": "markdown",
   "id": "b14d20fb-3678-4e19-a12d-2ddaa5470ec0",
   "metadata": {
    "editable": true,
    "slideshow": {
     "slide_type": "subslide"
    },
    "tags": []
   },
   "source": [
    "потом можно начинать общаться\n",
    "\n",
    "```c\n",
    "// правда так делать не правильно)\n",
    "write(socket_fd, \"abc\\n\", sizeof(\"abc\\n\"));\n",
    "// и так тоже\n",
    "read(socket_fd, buffer, sizeof(buffer));\n",
    "```"
   ]
  },
  {
   "cell_type": "markdown",
   "id": "8451970f-067a-4b88-b56b-8349bad4c686",
   "metadata": {
    "editable": true,
    "slideshow": {
     "slide_type": "subslide"
    },
    "tags": []
   },
   "source": [
    "## а почему так не правильно?"
   ]
  },
  {
   "cell_type": "markdown",
   "id": "08aaa0d6-06e6-4080-bd76-a744cafcee6b",
   "metadata": {
    "editable": true,
    "slideshow": {
     "slide_type": "subslide"
    },
    "tags": []
   },
   "source": [
    "```bash\n",
    "$ man 2 read\n",
    "...\n",
    "RETURN VALUE\n",
    "        ...\n",
    "       It is not  an  error  if this  number  is smaller\n",
    "       than the number of bytes requested; \n",
    "...\n",
    "```"
   ]
  },
  {
   "cell_type": "markdown",
   "id": "bfd228cf-8eeb-4518-9321-efb2f031bad8",
   "metadata": {
    "editable": true,
    "slideshow": {
     "slide_type": "subslide"
    },
    "tags": []
   },
   "source": [
    "```bash\n",
    "$ man 2 write\n",
    "...\n",
    "RETURN VALUE\n",
    "       ...\n",
    "       Note  that  a  successful  write() may transfer fewer\n",
    "       than count bytes.  Such partial writes can occur  for\n",
    "       various  reasons;  for example, because there was in‐\n",
    "       sufficient space on the disk device to write  all  of\n",
    "       the  requested bytes, or because a blocked write() to\n",
    "       a socket, pipe, or similar was interrupted by a  sig‐\n",
    "       nal handler after it had transferred some, but before\n",
    "       it  had  transferred  all of the requested bytes.  In\n",
    "       the event of a partial write, the caller can make an‐\n",
    "       other write() call to transfer the  remaining  bytes.\n",
    "       The  subsequent  call  will  either  transfer further\n",
    "       bytes or may result in an error (e.g., if the disk is\n",
    "       now full).\n",
    "...\n",
    "```"
   ]
  },
  {
   "cell_type": "markdown",
   "id": "8f11e3f1-8dc9-4cbb-bb42-16fc86853963",
   "metadata": {
    "editable": true,
    "slideshow": {
     "slide_type": "subslide"
    },
    "tags": []
   },
   "source": [
    "## страшно, очень страшно... а что делать то?"
   ]
  },
  {
   "cell_type": "markdown",
   "id": "00e65425-d89b-4da0-ac42-5fe83e185319",
   "metadata": {
    "editable": true,
    "slideshow": {
     "slide_type": "subslide"
    },
    "tags": []
   },
   "source": [
    "(хотяб в тасках на web и pipe-ы) - читайте и пишите через циклы\n",
    "\n",
    "```c\n",
    "char buffer[] = ...;\n",
    "\n",
    "int total = 100;\n",
    "int sent = 0;\n",
    "while (sent < total) {\n",
    "    sent += write(fd, buffer + sent, total - sent);\n",
    "}\n",
    "```"
   ]
  },
  {
   "cell_type": "markdown",
   "id": "cfffe304-6281-4297-949e-43c1c7c45429",
   "metadata": {
    "editable": true,
    "slideshow": {
     "slide_type": "subslide"
    },
    "tags": []
   },
   "source": [
    "## назад к сокетам"
   ]
  },
  {
   "cell_type": "markdown",
   "id": "b7add51e-145d-44f0-8eb6-8d60b5bb963a",
   "metadata": {
    "editable": true,
    "slideshow": {
     "slide_type": ""
    },
    "tags": []
   },
   "source": [
    "надо сигнализировать, что общение закончилось\n",
    "```c\n",
    "shutdown(socket_fd, SHUT_RDWR);\n",
    "close(socket_fd);\n",
    "```"
   ]
  },
  {
   "cell_type": "markdown",
   "id": "a8e5a438-56c7-471f-b94d-7d9d09eb5076",
   "metadata": {
    "editable": true,
    "slideshow": {
     "slide_type": "slide"
    },
    "tags": []
   },
   "source": [
    "# Сервер\n",
    "> тоже TCP"
   ]
  },
  {
   "cell_type": "markdown",
   "id": "593309f2-164e-45a5-b31b-412992ad5e50",
   "metadata": {
    "editable": true,
    "slideshow": {
     "slide_type": "subslide"
    },
    "tags": []
   },
   "source": [
    "Всё почти то же самое"
   ]
  },
  {
   "cell_type": "markdown",
   "id": "84e8f555-5c1b-4553-a27a-ed68023ed67c",
   "metadata": {
    "editable": true,
    "slideshow": {
     "slide_type": "fragment"
    },
    "tags": []
   },
   "source": [
    "```c\n",
    "struct sockaddr_in addr = {\n",
    "    .sin_family = AF_INET,\n",
    "    .sin_port = htons(8888),        // хотим BIG ENDIAN\n",
    "    .sin_addr.s_addr = INADDR_ANY,  // константа, чтоб принимать\n",
    "                                    // любые входящие\n",
    "                                    // соединения\n",
    "};\n",
    "\n",
    "// сопоставляем себя с параметрами\n",
    "bind(socket_fd, (struct sockaddr*)(&addr), sizeof(addr));\n",
    "\n",
    "// говорим, что начинаем слушать соединения\n",
    "listen(socket_fd, SOMAXCONN);\n",
    "\n",
    "// подключаем клиента (можно подключать сразу несколько)\n",
    "int client_fd = accept(socket_fd, NULL, NULL);\n",
    "```"
   ]
  },
  {
   "cell_type": "markdown",
   "id": "6f531907-a0ca-4773-80e1-1ff674148b23",
   "metadata": {
    "editable": true,
    "slideshow": {
     "slide_type": "slide"
    },
    "tags": []
   },
   "source": [
    "# HTTP vs HTTPS (Diffie-Hellman)"
   ]
  },
  {
   "cell_type": "markdown",
   "id": "216ebea7-4f60-4f0d-b30c-d4f70877648f",
   "metadata": {
    "editable": true,
    "slideshow": {
     "slide_type": "slide"
    },
    "tags": []
   },
   "source": [
    "# להתראות"
   ]
  }
 ],
 "metadata": {
  "kernelspec": {
   "display_name": "Python 3 (ipykernel)",
   "language": "python",
   "name": "python3"
  },
  "language_info": {
   "codemirror_mode": {
    "name": "ipython",
    "version": 3
   },
   "file_extension": ".py",
   "mimetype": "text/x-python",
   "name": "python",
   "nbconvert_exporter": "python",
   "pygments_lexer": "ipython3",
   "version": "3.12.7"
  }
 },
 "nbformat": 4,
 "nbformat_minor": 5
}
