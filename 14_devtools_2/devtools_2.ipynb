{
 "cells": [
  {
   "cell_type": "code",
   "execution_count": 2,
   "id": "399bfa0a-13c2-44eb-b841-23d758156125",
   "metadata": {
    "editable": true,
    "slideshow": {
     "slide_type": "skip"
    },
    "tags": []
   },
   "outputs": [
    {
     "name": "stdout",
     "output_type": "stream",
     "text": [
      "[NbConvertApp] Converting notebook devtools_2.ipynb to slides\n",
      "[NbConvertApp] Writing 279920 bytes to devtools_2.slides.html\n",
      "[NbConvertApp] Redirecting reveal.js requests to https://cdnjs.cloudflare.com/ajax/libs/reveal.js/3.5.0\n",
      "Serving your slides at http://127.0.0.1:8000/devtools_2.slides.html\n",
      "Use Control-C to stop this server\n",
      "^C\n",
      "\n",
      "Interrupted\n"
     ]
    }
   ],
   "source": [
    "!jupyter nbconvert devtools_2.ipynb --to slides --post serve"
   ]
  },
  {
   "cell_type": "markdown",
   "id": "e94981e5-cd0e-4550-a355-ed68a02bd4e1",
   "metadata": {
    "editable": true,
    "slideshow": {
     "slide_type": "slide"
    },
    "tags": []
   },
   "source": [
    "# devtools-2\n",
    "> как автоматизировать сборки и работа с ошибками"
   ]
  },
  {
   "cell_type": "markdown",
   "id": "40121237-35a3-4b2a-a088-e6af177d051e",
   "metadata": {
    "editable": true,
    "slideshow": {
     "slide_type": "slide"
    },
    "tags": []
   },
   "source": [
    "# Build automation"
   ]
  },
  {
   "cell_type": "markdown",
   "id": "92a6d7d0-e21e-4678-b2eb-52af142f7602",
   "metadata": {
    "editable": true,
    "slideshow": {
     "slide_type": "subslide"
    },
    "tags": []
   },
   "source": [
    "## simple app"
   ]
  },
  {
   "cell_type": "markdown",
   "id": "6ffd39a9-5887-42b9-87a9-d392469e88ca",
   "metadata": {
    "editable": true,
    "slideshow": {
     "slide_type": "subslide"
    },
    "tags": []
   },
   "source": [
    "## bash"
   ]
  },
  {
   "cell_type": "markdown",
   "id": "857cfccc-3de7-46fc-8401-82ad18ccb208",
   "metadata": {
    "editable": true,
    "slideshow": {
     "slide_type": "subslide"
    },
    "tags": []
   },
   "source": [
    "## Makefile"
   ]
  },
  {
   "cell_type": "markdown",
   "id": "40c2ff52-7159-4dd4-84b6-e6dd82483ba3",
   "metadata": {
    "editable": true,
    "slideshow": {
     "slide_type": "slide"
    },
    "tags": []
   },
   "source": [
    "# CMake"
   ]
  },
  {
   "cell_type": "markdown",
   "id": "0ae19a01-d7d8-46d9-afc2-0e3f6096b695",
   "metadata": {
    "editable": true,
    "slideshow": {
     "slide_type": "subslide"
    },
    "tags": []
   },
   "source": [
    "```cmake\n",
    "cmake_minimum_required(VERSION 3.15...3.25)\n",
    "\n",
    "project(MyProject\n",
    "  VERSION\n",
    "    1.0\n",
    "  DESCRIPTION\n",
    "    \"Very nice project\"\n",
    "  LANGUAGES\n",
    "    CXX\n",
    ")\n",
    "\n",
    "add_executable(myexample simple.cpp)\n",
    "```"
   ]
  },
  {
   "cell_type": "markdown",
   "id": "7049ee13-d0c9-41fc-8b3c-067fa129007e",
   "metadata": {
    "editable": true,
    "slideshow": {
     "slide_type": "subslide"
    },
    "tags": []
   },
   "source": [
    "## include_directories & link_directories"
   ]
  },
  {
   "cell_type": "markdown",
   "id": "d44926f4-7c13-4b5f-93a9-763cdd1f4d19",
   "metadata": {
    "editable": true,
    "slideshow": {
     "slide_type": "subslide"
    },
    "tags": []
   },
   "source": [
    "## set"
   ]
  },
  {
   "cell_type": "markdown",
   "id": "187898dd-ae4a-46cd-8e35-5bd9f9112e2c",
   "metadata": {
    "editable": true,
    "slideshow": {
     "slide_type": "subslide"
    },
    "tags": []
   },
   "source": [
    "## find_package"
   ]
  },
  {
   "cell_type": "markdown",
   "id": "46e4eb2e-a6fc-4c61-8f10-a18b24fe97f4",
   "metadata": {
    "editable": true,
    "slideshow": {
     "slide_type": "subslide"
    },
    "tags": []
   },
   "source": [
    "## targets"
   ]
  },
  {
   "cell_type": "markdown",
   "id": "381121de-24d9-4673-b601-850c44be7b8d",
   "metadata": {
    "editable": true,
    "slideshow": {
     "slide_type": "subslide"
    },
    "tags": []
   },
   "source": [
    "## add_custom_command"
   ]
  },
  {
   "cell_type": "markdown",
   "id": "684a6c52-ede4-44ef-838c-a46c56efae95",
   "metadata": {
    "editable": true,
    "slideshow": {
     "slide_type": "subslide"
    },
    "tags": []
   },
   "source": [
    "```cmake\n",
    "add_custom_command(\n",
    "    TARGET name_of_your_target\n",
    "    PRE_BUILD # Call this command pre-build\n",
    "    COMMAND ${PYTHON_EXECUTABLE} ${py_cmd}\n",
    "    COMMENT \"Generate Headers\"\n",
    ")    \n",
    "```"
   ]
  },
  {
   "cell_type": "markdown",
   "id": "dc9fc57f-0779-4051-b7ed-46da60b0e086",
   "metadata": {
    "editable": true,
    "slideshow": {
     "slide_type": "slide"
    },
    "tags": []
   },
   "source": [
    "# Корки"
   ]
  },
  {
   "cell_type": "markdown",
   "id": "99f6a6c6-9e76-44d2-85b5-24df24e9461e",
   "metadata": {
    "editable": true,
    "slideshow": {
     "slide_type": "subslide"
    },
    "tags": []
   },
   "source": [
    "## coredumpctl"
   ]
  },
  {
   "cell_type": "markdown",
   "id": "fd320119-f416-4ce3-91a9-cf67d6ced23d",
   "metadata": {
    "editable": true,
    "slideshow": {
     "slide_type": "subslide"
    },
    "tags": []
   },
   "source": [
    "## gcc -ggdb"
   ]
  },
  {
   "cell_type": "markdown",
   "id": "e5560ebe-f64a-4512-aae3-681cf7cc90ff",
   "metadata": {
    "editable": true,
    "slideshow": {
     "slide_type": "subslide"
    },
    "tags": []
   },
   "source": [
    "## gdb"
   ]
  },
  {
   "cell_type": "markdown",
   "id": "b7d46e45-2a96-4bbd-a62c-c1ed0defe51a",
   "metadata": {
    "editable": true,
    "slideshow": {
     "slide_type": "slide"
    },
    "tags": []
   },
   "source": [
    "# Ciao!"
   ]
  }
 ],
 "metadata": {
  "kernelspec": {
   "display_name": "Python 3 (ipykernel)",
   "language": "python",
   "name": "python3"
  },
  "language_info": {
   "codemirror_mode": {
    "name": "ipython",
    "version": 3
   },
   "file_extension": ".py",
   "mimetype": "text/x-python",
   "name": "python",
   "nbconvert_exporter": "python",
   "pygments_lexer": "ipython3",
   "version": "3.12.7"
  }
 },
 "nbformat": 4,
 "nbformat_minor": 5
}
