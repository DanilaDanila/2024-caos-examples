{
 "cells": [
  {
   "cell_type": "code",
   "execution_count": 15,
   "id": "aa211bc1-e7f9-4379-b02b-72c3e94124a6",
   "metadata": {
    "editable": true,
    "slideshow": {
     "slide_type": "skip"
    },
    "tags": []
   },
   "outputs": [
    {
     "name": "stdout",
     "output_type": "stream",
     "text": [
      "[NbConvertApp] Converting notebook x86.slides.ipynb to slides\n",
      "[NbConvertApp] Writing 367191 bytes to x86.slides.slides.html\n",
      "[NbConvertApp] Redirecting reveal.js requests to https://cdnjs.cloudflare.com/ajax/libs/reveal.js/3.5.0\n",
      "Serving your slides at http://127.0.0.1:8000/x86.slides.slides.html\n",
      "Use Control-C to stop this server\n",
      "404 GET /favicon.ico (127.0.0.1) 0.55ms\n",
      "^C\n",
      "\n",
      "Interrupted\n"
     ]
    }
   ],
   "source": [
    "!jupyter nbconvert x86.slides.ipynb --to slides --post serve"
   ]
  },
  {
   "cell_type": "markdown",
   "id": "efb2033e-863b-4747-9582-066b21b99d48",
   "metadata": {
    "editable": true,
    "slideshow": {
     "slide_type": "slide"
    },
    "tags": []
   },
   "source": [
    "# Ассемблер (x86)\n",
    "> Регистры, Базовые команды, Стек и вызов функций"
   ]
  },
  {
   "cell_type": "markdown",
   "id": "497ab7ec-f43d-4751-bc33-3ab37efd4303",
   "metadata": {
    "editable": true,
    "slideshow": {
     "slide_type": "slide"
    },
    "tags": []
   },
   "source": [
    "# маленькая РЕМАРКА\n",
    "> (нет блин, большая Дюма)"
   ]
  },
  {
   "cell_type": "markdown",
   "id": "7a60d1b7-e755-4af2-bf08-735404ec1ea9",
   "metadata": {
    "editable": true,
    "slideshow": {
     "slide_type": "fragment"
    },
    "tags": []
   },
   "source": [
    "Я буду использовать термины `ассемблер` и `язык ассемблера` как синонимы\n",
    "\n",
    "В целом вы можете так же, но на сдаче **должны** уметь объяснить разность"
   ]
  },
  {
   "cell_type": "markdown",
   "id": "e3d407b6-7dce-4b82-ab95-3842f96eea29",
   "metadata": {
    "editable": true,
    "slideshow": {
     "slide_type": "fragment"
    },
    "tags": []
   },
   "source": [
    "> **должны** использован как перевод **must** из _RFC 2119_"
   ]
  },
  {
   "cell_type": "markdown",
   "id": "cbc872ad-bd28-4a38-8abc-95f9c8023302",
   "metadata": {
    "editable": true,
    "slideshow": {
     "slide_type": "slide"
    },
    "tags": []
   },
   "source": [
    "# Recap лекции за 7 слайдов"
   ]
  },
  {
   "cell_type": "markdown",
   "id": "56ff7b2d-1793-470f-9f5c-d7ae85bda1a3",
   "metadata": {
    "editable": true,
    "slideshow": {
     "slide_type": "subslide"
    },
    "tags": []
   },
   "source": [
    "## Компьютер - машина тьюринга"
   ]
  },
  {
   "cell_type": "markdown",
   "id": "dc16e594-249e-4dc8-8bc6-c97047eca7a7",
   "metadata": {
    "editable": true,
    "slideshow": {
     "slide_type": "fragment"
    },
    "tags": []
   },
   "source": [
    "- **КОД** и **ДАННЫЕ** лежат на одной ленте"
   ]
  },
  {
   "cell_type": "markdown",
   "id": "2e8cf4d0-fa89-46e2-aed6-0f75d0b025e8",
   "metadata": {
    "editable": true,
    "slideshow": {
     "slide_type": "fragment"
    },
    "tags": []
   },
   "source": [
    "- лента разбита на ячейки и у каждой ячейки есть адрес"
   ]
  },
  {
   "cell_type": "markdown",
   "id": "cabbcd84-1681-4cb7-bd22-7e09baf62000",
   "metadata": {
    "editable": true,
    "slideshow": {
     "slide_type": "fragment"
    },
    "tags": []
   },
   "source": [
    "- размер ячейки есть байт"
   ]
  },
  {
   "cell_type": "markdown",
   "id": "16450045-503a-4f59-b3bc-2f59761b6215",
   "metadata": {
    "editable": true,
    "slideshow": {
     "slide_type": "fragment"
    },
    "tags": []
   },
   "source": [
    "- так получилось, что в байте 8 бит"
   ]
  },
  {
   "cell_type": "markdown",
   "id": "154bbed7-692d-4795-917d-65a0a0221d7b",
   "metadata": {
    "editable": true,
    "slideshow": {
     "slide_type": "fragment"
    },
    "tags": []
   },
   "source": [
    "- если штука в памяти занимает несколько ячеек подряд - её адрес равен адресу минимальной ячейки"
   ]
  },
  {
   "cell_type": "markdown",
   "id": "2b43e89a-487d-4548-9789-f90e77727c25",
   "metadata": {
    "editable": true,
    "slideshow": {
     "slide_type": "subslide"
    },
    "tags": []
   },
   "source": [
    "## Регистры"
   ]
  },
  {
   "cell_type": "markdown",
   "id": "21699cf3-621b-4748-a3ac-387ef25afc3f",
   "metadata": {
    "editable": true,
    "slideshow": {
     "slide_type": "fragment"
    },
    "tags": []
   },
   "source": [
    "- **регистр** - ячейка памяти, с самым быстрым доступом"
   ]
  },
  {
   "cell_type": "markdown",
   "id": "7235010d-cccc-4cca-8fed-4922a82a09ba",
   "metadata": {
    "editable": true,
    "slideshow": {
     "slide_type": "fragment"
    },
    "tags": []
   },
   "source": [
    "- в x86_86 размер регистров - 64 бита (ну почти)"
   ]
  },
  {
   "cell_type": "markdown",
   "id": "0c24bfcd-5d1d-4fa6-81d3-e01cdc0580a6",
   "metadata": {
    "editable": true,
    "slideshow": {
     "slide_type": "fragment"
    },
    "tags": []
   },
   "source": [
    "- есть регистры общего назначения (`rax`, `rbx`, `rcx`, `rdx`, `rsi`, `rdi`, `r8`, ... `r15`, ...)"
   ]
  },
  {
   "cell_type": "markdown",
   "id": "4fc3053a-b2a6-473a-a97c-f507f60eee0b",
   "metadata": {
    "editable": true,
    "slideshow": {
     "slide_type": "fragment"
    },
    "tags": []
   },
   "source": [
    ">   - у регистров есть имена `Accamulator`, `Base`, `Counter`, `Data` и т.д.\n",
    ">   - так что старайтесь использовать их в соответствии с именами (так будет проще)"
   ]
  },
  {
   "cell_type": "markdown",
   "id": "0318a8eb-6c24-4eab-8c7b-aa2127e24d5a",
   "metadata": {
    "editable": true,
    "slideshow": {
     "slide_type": "fragment"
    },
    "tags": []
   },
   "source": [
    "- есть регистры со специальным значением (`rbp`, `rsp`, `rip`, `rflags`, ...)"
   ]
  },
  {
   "cell_type": "markdown",
   "id": "34d9e5ce-b29f-42a2-aa07-17ef46d2fd6b",
   "metadata": {
    "editable": true,
    "slideshow": {
     "slide_type": "subslide"
    },
    "tags": []
   },
   "source": [
    "## Некоторые регистры вложены друг в друга"
   ]
  },
  {
   "cell_type": "markdown",
   "id": "4b9ba9b1-45f9-4b1d-9022-2e169f8a1aab",
   "metadata": {
    "editable": true,
    "slideshow": {
     "slide_type": "fragment"
    },
    "tags": []
   },
   "source": [
    "<table>\n",
    "    <tr>\n",
    "        <th>7</th><th>6</th><th>5</th><th>4</th><th>3</th><th>2</th><th>1</th><th>0</th>\n",
    "    </tr>\n",
    "    <tr style=\"width: 100%\">\n",
    "        <td colspan=8 style=\"background-color: #eee; border: 2px solid #aaa; text-align: center\">rax</td>\n",
    "    </tr>\n",
    "    <tr style=\"width: 100%\">\n",
    "        <td colspan=4 style=\"background-color: #aaa; border: 2px solid #ccc; text-align: center\"></td>\n",
    "        <td colspan=4 style=\"background-color: #eee; border: 2px solid #ccc; text-align: center\">eax</td>\n",
    "    </tr>\n",
    "    <tr style=\"width: 100%\">\n",
    "        <td colspan=6 style=\"background-color: #aaa; border: 2px solid #ccc; text-align: center\"></td>\n",
    "        <td colspan=2 style=\"background-color: #eee; border: 2px solid #ccc; text-align: center\">ax</td>\n",
    "    </tr>\n",
    "    <tr style=\"width: 100%\">\n",
    "        <td colspan=6 style=\"background-color: #aaa; border: 2px solid #ccc; text-align: center\"></td>\n",
    "        <td colspan=1 style=\"background-color: #eee; border: 2px solid #ccc; text-align: center\">ah</td>\n",
    "        <td colspan=1 style=\"background-color: #eee; border: 2px solid #ccc; text-align: center\">al</td>\n",
    "    </tr>\n",
    "</table>\n",
    "\n",
    "Регистр - один\n",
    "\n",
    "Но его можно использовать не весь\n",
    "\n",
    "- запись в `eax` **обнулит** старшие биты в `rax`\n",
    "- запись в `ax` **НЕ** обнулит верхние биты в `eax`\n",
    "- запись в `ah` не обнулит `al` и наоборот"
   ]
  },
  {
   "cell_type": "markdown",
   "id": "198dc33c-6cc2-48a2-8ee6-efdcf5b5b663",
   "metadata": {
    "editable": true,
    "slideshow": {
     "slide_type": "subslide"
    },
    "tags": []
   },
   "source": [
    "## Intel vs AT&T"
   ]
  },
  {
   "cell_type": "markdown",
   "id": "6e51c6c8-ed66-4582-9e67-31e83f1bcb53",
   "metadata": {
    "editable": true,
    "slideshow": {
     "slide_type": "fragment"
    },
    "tags": []
   },
   "source": [
    "**Intel**\n",
    "\n",
    "```gas\n",
    "mov rax, qword ptr [rax + 2 * rcx + 0x10] \n",
    "```"
   ]
  },
  {
   "cell_type": "markdown",
   "id": "5a144b6a-5538-459f-865b-a0365ed29368",
   "metadata": {
    "editable": true,
    "slideshow": {
     "slide_type": "fragment"
    },
    "tags": []
   },
   "source": [
    "**AT&T**\n",
    "\n",
    "```gas\n",
    "movq 0x10(%rax, %rcx, 2), %rax \n",
    "```"
   ]
  },
  {
   "cell_type": "markdown",
   "id": "5a366df0-94c1-482c-888a-2b4cf8abfd4d",
   "metadata": {
    "editable": true,
    "slideshow": {
     "slide_type": "fragment"
    },
    "tags": []
   },
   "source": [
    "мб помните в C и C++ было что-то похожее\n",
    "\n",
    "```c\n",
    "arr[i]\n",
    "// equivalent to\n",
    "i[arr]\n",
    "// equivalent to\n",
    "*(arr + i)\n",
    "```"
   ]
  },
  {
   "cell_type": "markdown",
   "id": "e44bb6f8-30b6-4b6d-9f71-1c18bf1cfd1e",
   "metadata": {
    "editable": true,
    "slideshow": {
     "slide_type": "fragment"
    },
    "tags": []
   },
   "source": [
    "короче я буду использовать intel"
   ]
  },
  {
   "cell_type": "markdown",
   "id": "9600258d-d743-4256-83b6-e08d640ef969",
   "metadata": {
    "editable": true,
    "slideshow": {
     "slide_type": "subslide"
    },
    "tags": []
   },
   "source": [
    "# Ассемблеров много"
   ]
  },
  {
   "cell_type": "markdown",
   "id": "a6cae9c2-fcc4-46f0-af07-47fe74154cd1",
   "metadata": {
    "editable": true,
    "slideshow": {
     "slide_type": "fragment"
    },
    "tags": []
   },
   "source": [
    "GAS, NASM, FASM, TASM, MASM, ... (и это только те, что с ходу сходу вспомнил)"
   ]
  },
  {
   "cell_type": "markdown",
   "id": "97030cd4-7e85-4d83-99e4-e3c0e85cdcec",
   "metadata": {
    "editable": true,
    "slideshow": {
     "slide_type": "fragment"
    },
    "tags": []
   },
   "source": [
    "- на каких-то просто начать писать -- **FASM**"
   ]
  },
  {
   "cell_type": "markdown",
   "id": "90a86761-e388-4a9a-8b19-bd324d4ea7b0",
   "metadata": {
    "editable": true,
    "slideshow": {
     "slide_type": "fragment"
    },
    "tags": []
   },
   "source": [
    "- какой-то сделала корпорация зла под свой _must die_ -- **MASM**"
   ]
  },
  {
   "cell_type": "markdown",
   "id": "55435219-4aa7-43d8-802c-58884bb21be8",
   "metadata": {
    "editable": true,
    "slideshow": {
     "slide_type": "fragment"
    },
    "tags": []
   },
   "source": [
    "- какой-то был самым продвинутым для своего времени -- **TASM** (от Borland между прочим)"
   ]
  },
  {
   "cell_type": "markdown",
   "id": "2cebad83-6334-4fc5-a012-9b5d00622562",
   "metadata": {
    "editable": true,
    "slideshow": {
     "slide_type": "fragment"
    },
    "tags": []
   },
   "source": [
    "- в каком-то есть продвинутые макросы, красота кода, лаконичность происходящего -- **NASM**"
   ]
  },
  {
   "cell_type": "markdown",
   "id": "2f78ed9d-3146-43e9-a55f-94ba8dc4c272",
   "metadata": {
    "editable": true,
    "slideshow": {
     "slide_type": "fragment"
    },
    "tags": []
   },
   "source": [
    "- а кто-то **GAS** (Gnu ASsembler)"
   ]
  },
  {
   "cell_type": "markdown",
   "id": "274e061d-3dae-4291-85d7-1a2820a2e4b7",
   "metadata": {
    "editable": true,
    "slideshow": {
     "slide_type": "subslide"
    },
    "tags": []
   },
   "source": [
    "## Адресация памяти"
   ]
  },
  {
   "cell_type": "markdown",
   "id": "a4a579a9-a458-408f-9b1b-69456ddeda06",
   "metadata": {
    "editable": true,
    "slideshow": {
     "slide_type": "fragment"
    },
    "tags": []
   },
   "source": [
    "```gas\n",
    "mov ..., [base + index * 1/2/4/8 + offset]\n",
    "```"
   ]
  },
  {
   "cell_type": "markdown",
   "id": "af44aae4-f9d7-448f-aa04-e9f228af45c6",
   "metadata": {
    "editable": true,
    "slideshow": {
     "slide_type": "fragment"
    },
    "tags": []
   },
   "source": [
    "- `base` и `index` - всегда регистры\n",
    "- `offset` - всегда число"
   ]
  },
  {
   "cell_type": "markdown",
   "id": "ff2e4517-41a3-4f54-953d-4f87b0dc04c8",
   "metadata": {
    "editable": true,
    "slideshow": {
     "slide_type": "fragment"
    },
    "tags": []
   },
   "source": [
    "```gas\n",
    "mov r8, [rbp]\n",
    "mov rcx, [rbx, rdi]\n",
    "mov rax, [rax + rcx * 2 + 0x10] \n",
    "```"
   ]
  },
  {
   "cell_type": "markdown",
   "id": "264c0b74-1911-41fd-ae89-0d0d7aad7a5c",
   "metadata": {
    "editable": true,
    "slideshow": {
     "slide_type": "subslide"
    },
    "tags": []
   },
   "source": [
    "## Calling conventions"
   ]
  },
  {
   "cell_type": "markdown",
   "id": "75638ed3-b11a-445e-a51f-ac99609030e6",
   "metadata": {
    "editable": true,
    "slideshow": {
     "slide_type": "fragment"
    },
    "tags": []
   },
   "source": [
    "- есть правила о том, как разные функции вызывают друг друга\n",
    "- мы с вами будем говорить только о fastcall"
   ]
  },
  {
   "cell_type": "markdown",
   "id": "4bc47db5-a81a-4e08-8121-af56bde3558f",
   "metadata": {
    "editable": true,
    "slideshow": {
     "slide_type": "fragment"
    },
    "tags": []
   },
   "source": [
    "- при вызове функций вершина стека (`rsp`) должна быть выровнена по 16 байт\n",
    "- вызываемая функция **должна** сохранять значения в регистрах `rbx`, `rsp`, `rbp`, `r12-15`\n",
    "- аргументы передаются в `rdi`, `rsi`, `rdx`, `rcx`, `r8`, `r9`, дальше стек _(ну почти)_\n",
    "- возвращаемое значение кладется в `rax` (ну почти)"
   ]
  },
  {
   "cell_type": "markdown",
   "id": "4e377572-1964-4904-b923-600e8d0b62de",
   "metadata": {
    "editable": true,
    "slideshow": {
     "slide_type": "slide"
    },
    "tags": []
   },
   "source": [
    "### А теперь"
   ]
  },
  {
   "cell_type": "markdown",
   "id": "4582016e-2bba-49e6-ab6f-e7d9dda33084",
   "metadata": {
    "editable": true,
    "slideshow": {
     "slide_type": "fragment"
    },
    "tags": []
   },
   "source": [
    "## ВТРЕЧАЙТЕ"
   ]
  },
  {
   "cell_type": "markdown",
   "id": "0caa4591-e20d-4028-b213-a3cf0333687c",
   "metadata": {
    "editable": true,
    "slideshow": {
     "slide_type": "fragment"
    },
    "tags": []
   },
   "source": [
    "##### супер краткий курс"
   ]
  },
  {
   "cell_type": "markdown",
   "id": "d8ea6585-4395-4dc8-bca8-dbd60bb37d49",
   "metadata": {
    "editable": true,
    "slideshow": {
     "slide_type": "fragment"
    },
    "tags": []
   },
   "source": [
    "# ПО ЯЗЫКУ АССЕМБЛЕРА"
   ]
  },
  {
   "cell_type": "markdown",
   "id": "256665fc-7694-4929-8186-208be592795d",
   "metadata": {
    "editable": true,
    "slideshow": {
     "slide_type": "fragment"
    },
    "tags": []
   },
   "source": [
    "#### (чтоб скорее перейти к примерам)"
   ]
  },
  {
   "cell_type": "markdown",
   "id": "d3c7510b-5933-434a-89b4-d343cf26a90b",
   "metadata": {
    "editable": true,
    "slideshow": {
     "slide_type": "subslide"
    },
    "tags": []
   },
   "source": [
    "## Константы можно записывать вот так"
   ]
  },
  {
   "cell_type": "markdown",
   "id": "727c7f7d-97bf-4fdb-87e5-468ce877d179",
   "metadata": {
    "editable": true,
    "slideshow": {
     "slide_type": ""
    },
    "tags": []
   },
   "source": [
    "`123`\n",
    "\n",
    "`'h'`\n",
    "\n",
    "`0x10`"
   ]
  },
  {
   "cell_type": "markdown",
   "id": "c1c441cc-778f-4dcb-a742-643c8bd4b21e",
   "metadata": {
    "editable": true,
    "slideshow": {
     "slide_type": "subslide"
    },
    "tags": []
   },
   "source": [
    "## А вот так записываются регистры"
   ]
  },
  {
   "cell_type": "markdown",
   "id": "994b466e-177b-4238-aada-aa1ce9e97c6b",
   "metadata": {
    "editable": true,
    "slideshow": {
     "slide_type": ""
    },
    "tags": []
   },
   "source": [
    "`rax`\n",
    "\n",
    "`rsi`\n",
    "\n",
    "`r9`"
   ]
  },
  {
   "cell_type": "markdown",
   "id": "b01fcc07-e4d5-4197-a9c9-f656aa31da43",
   "metadata": {
    "editable": true,
    "slideshow": {
     "slide_type": "subslide"
    },
    "tags": []
   },
   "source": [
    "## Вот так пишутся команды в самом общем виде"
   ]
  },
  {
   "cell_type": "markdown",
   "id": "ba73ae44-18e6-412c-8446-a9848f37076a",
   "metadata": {
    "editable": true,
    "slideshow": {
     "slide_type": ""
    },
    "tags": []
   },
   "source": [
    "`op reg, reg`\n",
    "\n",
    "`op reg, const`\n",
    "\n",
    "`op [addr], reg`\n",
    "\n",
    "`op reg`\n",
    "\n",
    "действие справа налево"
   ]
  },
  {
   "cell_type": "markdown",
   "id": "83f981bf-7aab-4b62-b93a-12c1643ed41b",
   "metadata": {
    "editable": true,
    "slideshow": {
     "slide_type": "subslide"
    },
    "tags": []
   },
   "source": [
    "## В регистр можно что-нибудь записать"
   ]
  },
  {
   "cell_type": "markdown",
   "id": "4bd8ec70-c1a4-4fea-b688-f6cca4ed9643",
   "metadata": {
    "editable": true,
    "slideshow": {
     "slide_type": ""
    },
    "tags": []
   },
   "source": [
    "`mov rax, 123`"
   ]
  },
  {
   "cell_type": "markdown",
   "id": "81e0d777-9f92-4341-ac02-8f82b0833089",
   "metadata": {
    "editable": true,
    "slideshow": {
     "slide_type": "fragment"
    },
    "tags": []
   },
   "source": [
    "## Можно что-нибудь записать в ячейку"
   ]
  },
  {
   "cell_type": "markdown",
   "id": "92da2f29-b5d8-4290-be5c-280332c0ee99",
   "metadata": {
    "editable": true,
    "slideshow": {
     "slide_type": ""
    },
    "tags": []
   },
   "source": [
    "`mov [rbp], rax`"
   ]
  },
  {
   "cell_type": "markdown",
   "id": "6496ee91-2c48-4e04-b44c-1f44f8f99634",
   "metadata": {
    "editable": true,
    "slideshow": {
     "slide_type": "subslide"
    },
    "tags": []
   },
   "source": [
    "## Константы тоже можно записывать в RAM напрямую"
   ]
  },
  {
   "cell_type": "markdown",
   "id": "b5cedfbb-4006-48c4-9475-0a9b8850954a",
   "metadata": {
    "editable": true,
    "slideshow": {
     "slide_type": "fragment"
    },
    "tags": []
   },
   "source": [
    "но для этого нужно указать размер того, что записываем\n",
    "\n",
    "`byte`\n",
    "\n",
    "`word` = 2 * `byte`\n",
    "\n",
    "`dword` = 2 * `word` = 4 * `byte`\n",
    "\n",
    "`qword` = 4 * `word` = 8 * `byte`"
   ]
  },
  {
   "cell_type": "markdown",
   "id": "b9e50598-bb79-473e-a632-c469df941e5a",
   "metadata": {
    "editable": true,
    "slideshow": {
     "slide_type": "fragment"
    },
    "tags": []
   },
   "source": [
    "`mov dword ptr [rbp], 0x6c6c6568`  // \"lleh\"\n",
    "\n",
    "`mov word ptr [rbp + 4], 0x6f`  // 'o'\n",
    "\n",
    "(пример не выдуман; это проще, чем выделять память под строки)"
   ]
  },
  {
   "cell_type": "markdown",
   "id": "07177f2b-0da0-464a-8f46-318ed196cf66",
   "metadata": {
    "editable": true,
    "slideshow": {
     "slide_type": "subslide"
    },
    "tags": []
   },
   "source": [
    "## Вот примеры конкретных команд"
   ]
  },
  {
   "cell_type": "markdown",
   "id": "6a8f5199-bb68-4193-932e-691da80caf2d",
   "metadata": {
    "editable": true,
    "slideshow": {
     "slide_type": ""
    },
    "tags": []
   },
   "source": [
    "`mov rax, 123`\n",
    "\n",
    "`mov rdi, rsi`\n",
    "\n",
    "`add rbx, rdx`\n",
    "\n",
    "`push rsi`"
   ]
  },
  {
   "cell_type": "markdown",
   "id": "c619ef7f-c98d-4862-9c1c-8fd5ce9295f8",
   "metadata": {
    "editable": true,
    "slideshow": {
     "slide_type": "subslide"
    },
    "tags": []
   },
   "source": [
    "## У каждого процесса есть стек"
   ]
  },
  {
   "cell_type": "markdown",
   "id": "b6e9a5ee-a116-44bb-be50-3313decf0a29",
   "metadata": {
    "editable": true,
    "slideshow": {
     "slide_type": "fragment"
    },
    "tags": []
   },
   "source": [
    "он растет сверху вних (от старших адресов к младшим)"
   ]
  },
  {
   "cell_type": "markdown",
   "id": "f8df97a1-b5a4-40c1-8cf1-cc71b4f183d1",
   "metadata": {
    "editable": true,
    "slideshow": {
     "slide_type": "fragment"
    },
    "tags": []
   },
   "source": [
    "на его вершину указывает `rsp`"
   ]
  },
  {
   "cell_type": "markdown",
   "id": "417dd798-7903-463c-a03f-af29cdf5ee9b",
   "metadata": {
    "editable": true,
    "slideshow": {
     "slide_type": "fragment"
    },
    "tags": []
   },
   "source": [
    "можно положить что-нибудь на стек с помощью `push`"
   ]
  },
  {
   "cell_type": "markdown",
   "id": "bbabe6ba-64de-4624-95a2-e5d803a7b207",
   "metadata": {
    "editable": true,
    "slideshow": {
     "slide_type": "fragment"
    },
    "tags": []
   },
   "source": [
    "можно достать что-нибудь из стека с помощью `pop`"
   ]
  },
  {
   "cell_type": "markdown",
   "id": "203bf8f9-3c07-4512-a425-f275dcc5ecc2",
   "metadata": {
    "editable": true,
    "slideshow": {
     "slide_type": "fragment"
    },
    "tags": []
   },
   "source": [
    "```gas\n",
    "push rax\n",
    "pop ebx  ; не знаю зачем, но мб вам очень хочется\n",
    "pop ecx\n",
    "```"
   ]
  },
  {
   "cell_type": "markdown",
   "id": "130b2c67-528c-4c9b-a5e8-eb96de76f98c",
   "metadata": {
    "editable": true,
    "slideshow": {
     "slide_type": "subslide"
    },
    "tags": []
   },
   "source": [
    "## На стеке можно выделять память"
   ]
  },
  {
   "cell_type": "markdown",
   "id": "8da15816-df1b-41fd-b02e-cfe0eca9bb45",
   "metadata": {
    "editable": true,
    "slideshow": {
     "slide_type": "fragment"
    },
    "tags": []
   },
   "source": [
    "`sub rsp, 4`  --  выделит 4 байта"
   ]
  },
  {
   "cell_type": "markdown",
   "id": "5f852c05-42fb-41b3-b4ae-ac934a8c448a",
   "metadata": {
    "editable": true,
    "slideshow": {
     "slide_type": ""
    },
    "tags": []
   },
   "source": [
    "(минутка на осознание)"
   ]
  },
  {
   "cell_type": "markdown",
   "id": "ca97d273-6e25-49ef-9903-dccbaf8c48b8",
   "metadata": {
    "editable": true,
    "slideshow": {
     "slide_type": "fragment"
    },
    "tags": []
   },
   "source": [
    "`add rsp, 8`  --  освободит 8 байт"
   ]
  },
  {
   "cell_type": "markdown",
   "id": "d59c295e-c1b0-4357-b4de-7a2fbccbdbe5",
   "metadata": {
    "editable": true,
    "slideshow": {
     "slide_type": "subslide"
    },
    "tags": []
   },
   "source": [
    "## Это нужно, чтоб хранить на стеке что-нибудь"
   ]
  },
  {
   "cell_type": "markdown",
   "id": "33f223cd-4c7d-46b4-b04d-a393b1c6a185",
   "metadata": {
    "editable": true,
    "slideshow": {
     "slide_type": ""
    },
    "tags": []
   },
   "source": [
    "```gas\n",
    "push rbp\n",
    "sub rsp, 16  ; выделяем память\n",
    "mov rbp, rsp\n",
    "...\n",
    "mov qword ptr [rbp], 31415  ; кладем чиселку в первые 8 ячеек\n",
    "mov qword ptr [rbp+8], 98765  ; кладем чиселку во вторые 8 ячеек\n",
    "...\n",
    "add rsp, 16  ; освобождаем память\n",
    "pop rbp\n",
    "```"
   ]
  },
  {
   "cell_type": "markdown",
   "id": "6dc8fd2a-dd59-4d4f-b479-31269f447975",
   "metadata": {
    "editable": true,
    "slideshow": {
     "slide_type": "subslide"
    },
    "tags": []
   },
   "source": [
    "## Эти конструкции встречаются часто и имеют названия"
   ]
  },
  {
   "cell_type": "markdown",
   "id": "f0139ac7-fa7f-46a1-b49d-248b4f23eeca",
   "metadata": {
    "editable": true,
    "slideshow": {
     "slide_type": ""
    },
    "tags": []
   },
   "source": [
    "вот это называется **пролог**\n",
    "```gas\n",
    "push rbp\n",
    "sub rsp, 20  ; выделяем память\n",
    "mov rbp, rsp\n",
    "```"
   ]
  },
  {
   "cell_type": "markdown",
   "id": "9b5ce699-b866-4457-95e7-c138ee13f01c",
   "metadata": {
    "editable": true,
    "slideshow": {
     "slide_type": ""
    },
    "tags": []
   },
   "source": [
    "вот это называется **эпилог**\n",
    "```gas\n",
    "add rsp, 20  ; освобождаем память\n",
    "pop rbp\n",
    "```"
   ]
  },
  {
   "cell_type": "markdown",
   "id": "ef33e31c-282e-4c77-b2f4-cf3a36f48f69",
   "metadata": {
    "editable": true,
    "slideshow": {
     "slide_type": ""
    },
    "tags": []
   },
   "source": [
    "кусок памяти, который мы выделили (тут 20 байт), называется **stack frame**"
   ]
  },
  {
   "cell_type": "markdown",
   "id": "254ed64b-9fcd-4d15-b7d7-e8a35d4e119e",
   "metadata": {
    "editable": true,
    "slideshow": {
     "slide_type": "subslide"
    },
    "tags": []
   },
   "source": [
    "## Переменных в ассемблере нет"
   ]
  },
  {
   "cell_type": "markdown",
   "id": "4ce1023b-0f6f-48d4-ba25-ae75d2d67c70",
   "metadata": {
    "editable": true,
    "slideshow": {
     "slide_type": "subslide"
    },
    "tags": []
   },
   "source": [
    "## Функций в ассемблере нет"
   ]
  },
  {
   "cell_type": "markdown",
   "id": "946c6083-dd23-4072-ab50-11effed6879e",
   "metadata": {
    "editable": true,
    "slideshow": {
     "slide_type": "subslide"
    },
    "tags": []
   },
   "source": [
    "## Циклов в ассемблере нет"
   ]
  },
  {
   "cell_type": "markdown",
   "id": "b8434bc0-b562-456b-87b2-060ad56acd55",
   "metadata": {
    "editable": true,
    "slideshow": {
     "slide_type": "subslide"
    },
    "tags": []
   },
   "source": [
    "## В ассемблере есть метки"
   ]
  },
  {
   "cell_type": "markdown",
   "id": "9c14b0d0-58b3-42ac-813e-b186938e206f",
   "metadata": {
    "editable": true,
    "slideshow": {
     "slide_type": ""
    },
    "tags": []
   },
   "source": [
    "`foo:` -- это метка (в конце двоеточие)\n",
    "\n",
    "метка - алиас на ячейку в памяти (по сути на адрес)"
   ]
  },
  {
   "cell_type": "markdown",
   "id": "bc87cee1-9b3e-40db-bb75-34e29a258f16",
   "metadata": {
    "editable": true,
    "slideshow": {
     "slide_type": "subslide"
    },
    "tags": []
   },
   "source": [
    "## Переменных в ассемблере нет, но"
   ]
  },
  {
   "cell_type": "markdown",
   "id": "cbacb41f-69fe-4eed-b5ed-ef3232e33fc5",
   "metadata": {
    "editable": true,
    "slideshow": {
     "slide_type": ""
    },
    "tags": []
   },
   "source": [
    "`hello_str: .asciz \"hello, asm!\"`\n",
    "\n",
    "`hello_str` - метка на строку"
   ]
  },
  {
   "cell_type": "markdown",
   "id": "0a4a07c5-164e-47c9-838f-68d470c200c1",
   "metadata": {
    "editable": true,
    "slideshow": {
     "slide_type": "subslide"
    },
    "tags": []
   },
   "source": [
    "## Функций в ассемблере нет, но"
   ]
  },
  {
   "cell_type": "markdown",
   "id": "2d049c50-af5c-40db-9cec-f0e5d013cb1c",
   "metadata": {},
   "source": [
    "`add_one:` - это функция\n",
    "\n",
    "`call add_one` - вот так её можно вызвать"
   ]
  },
  {
   "cell_type": "markdown",
   "id": "57637b5d-09b1-4224-896a-2ca88816ffb8",
   "metadata": {
    "editable": true,
    "slideshow": {
     "slide_type": "subslide"
    },
    "tags": []
   },
   "source": [
    "## Циклов в ассемблере нет, но"
   ]
  },
  {
   "cell_type": "markdown",
   "id": "59acbe71-00c7-41d8-9b4e-3b6387df922b",
   "metadata": {
    "editable": true,
    "slideshow": {
     "slide_type": ""
    },
    "tags": []
   },
   "source": [
    "вот так выглядит бесконечный цикл\n",
    "```gas\n",
    "foo:\n",
    "    ...\n",
    "    begin:\n",
    "\n",
    "    jmp begin\n",
    "    ...\n",
    "```"
   ]
  },
  {
   "cell_type": "markdown",
   "id": "0fe5795e-7bcb-4dd4-a9b9-db3f1ba11da6",
   "metadata": {
    "editable": true,
    "slideshow": {
     "slide_type": "subslide"
    },
    "tags": []
   },
   "source": [
    "правильнее делать циклы чуть иначе (потом расскажу почему)\n",
    "```gas\n",
    "foo:\n",
    "    ...\n",
    "    .Lbegin:  # <-- вот тут появилось `.L` в начале\n",
    "\n",
    "    jmp .Lbegin\n",
    "    ...\n",
    "```"
   ]
  },
  {
   "cell_type": "markdown",
   "id": "d6e6ead8-7790-4e28-a938-d8d7961c0b68",
   "metadata": {
    "editable": true,
    "slideshow": {
     "slide_type": "subslide"
    },
    "tags": []
   },
   "source": [
    "## А вот управляющие конструкции (if-ы короче) в ассемблере есть"
   ]
  },
  {
   "cell_type": "markdown",
   "id": "5054e921-e2c8-4e60-bd26-ff80c7784f74",
   "metadata": {
    "editable": true,
    "slideshow": {
     "slide_type": ""
    },
    "tags": []
   },
   "source": [
    "Есть даже целых три\n",
    "\n",
    "`cmp reg0, reg1`\n",
    "- это как `sub reg0, reg1` но без изменения регистров\n",
    "- но с обновлением `rflags`\n",
    "\n",
    "`test reg0, reg1`\n",
    "- это как `and reg0, reg1` но без перезаписи регистров\n",
    "- но с обнавлением `rflags`\n",
    "\n",
    "`loop label` -- шорткат для `dec rcx` + `jnz label`"
   ]
  },
  {
   "cell_type": "markdown",
   "id": "82075731-68e5-4d42-9b49-0bb80bdabf64",
   "metadata": {
    "editable": true,
    "slideshow": {
     "slide_type": "fragment"
    },
    "tags": []
   },
   "source": [
    "(хотя если прям совсем честно - управляющих конструкций больше, но этих тех трех управляющая только одна)"
   ]
  },
  {
   "cell_type": "markdown",
   "id": "2e2cb6f7-d1c6-4346-8eb9-fe0d3585002e",
   "metadata": {
    "editable": true,
    "slideshow": {
     "slide_type": "subslide"
    },
    "tags": []
   },
   "source": [
    "## Ах да... ещё есть `rflags`"
   ]
  },
  {
   "cell_type": "markdown",
   "id": "4e1059c9-2266-4d33-bb14-93bce8709c4d",
   "metadata": {
    "editable": true,
    "slideshow": {
     "slide_type": ""
    },
    "tags": []
   },
   "source": [
    "Этот регистр содержит специальные биты (флаги) результата операций\n",
    "\n",
    "Основные из них:\n",
    "- `ZF` - если в результате получился `0`\n",
    "- `SF` - если результат отрицательный\n",
    "- `OF` - знаковое переполнение\n",
    "- `CF` - беззнаковое переполнение (carry flag)\n",
    "- ...\n",
    "\n",
    "(запоминать их не нужно)"
   ]
  },
  {
   "cell_type": "markdown",
   "id": "fec0dd4c-40f5-45a4-9f2d-0975740bdeb8",
   "metadata": {
    "editable": true,
    "slideshow": {
     "slide_type": "subslide"
    },
    "tags": []
   },
   "source": [
    "Вычислительные операции проставляют флаги в `rflags`\n",
    "\n",
    "`cmp` и `test` тоже проставляют флаги в `rflags` (но не меняют регистры)"
   ]
  },
  {
   "cell_type": "markdown",
   "id": "96caa56d-b4ce-4c04-a59c-c6603fc3e98a",
   "metadata": {
    "editable": true,
    "slideshow": {
     "slide_type": "fragment"
    },
    "tags": []
   },
   "source": [
    "И на них можно \"смотреть\" с помощью суффиксов для команды `jmp`"
   ]
  },
  {
   "cell_type": "markdown",
   "id": "8873cde3-f558-44b0-ac8e-a00b5c844636",
   "metadata": {
    "editable": true,
    "slideshow": {
     "slide_type": "subslide"
    },
    "tags": []
   },
   "source": [
    "(Но мнемоники придумывались для команды `cmp`, так что для `test` будет сложно... и мы его касаться не будем)"
   ]
  },
  {
   "cell_type": "markdown",
   "id": "c8b27b14-d7b3-465b-8a74-da91c063db8b",
   "metadata": {
    "editable": true,
    "slideshow": {
     "slide_type": "fragment"
    },
    "tags": []
   },
   "source": [
    "- `jmp` - безусловный переход"
   ]
  },
  {
   "cell_type": "markdown",
   "id": "b7387629-2563-4c14-a23d-8b69ca457644",
   "metadata": {
    "editable": true,
    "slideshow": {
     "slide_type": "fragment"
    },
    "tags": []
   },
   "source": [
    "- `je` - jump if Equal\n",
    "- `jz` - jump if Zero"
   ]
  },
  {
   "cell_type": "markdown",
   "id": "78ac28e2-7bd3-435c-a6ea-f6d52a79d7ed",
   "metadata": {
    "editable": true,
    "slideshow": {
     "slide_type": "fragment"
    },
    "tags": []
   },
   "source": [
    "- `ja` - jump if `>u` (unsigned Above)\n",
    "- `jb` - jump if `<u` (unsigned Below)\n",
    "- `jae` - jump if `>=u` (unsigned Above or Equal)\n",
    "- `jbe` - jump if `<=u` (unsigned Below or Equal)"
   ]
  },
  {
   "cell_type": "markdown",
   "id": "2e0b566b-7c0f-4343-a297-8be546e84471",
   "metadata": {
    "editable": true,
    "slideshow": {
     "slide_type": "fragment"
    },
    "tags": []
   },
   "source": [
    "- `jg` - jump if `>s` (signed Greater)\n",
    "- `jl` - jump if `<s` (signed Less)"
   ]
  },
  {
   "cell_type": "markdown",
   "id": "c4db5259-0738-4055-85e3-a03a39d07514",
   "metadata": {
    "editable": true,
    "slideshow": {
     "slide_type": "fragment"
    },
    "tags": []
   },
   "source": [
    "- ну и т.д."
   ]
  },
  {
   "cell_type": "markdown",
   "id": "19544baa-8dea-4a90-a281-33ea15014e8a",
   "metadata": {
    "editable": true,
    "slideshow": {
     "slide_type": "fragment"
    },
    "tags": []
   },
   "source": [
    "Если кому интересно, как это матчится на `rflags`, то вот вам [большая табличка](https://www.felixcloutier.com/x86/jcc)\n",
    "\n",
    "Из плюсов - оно прикольно\n",
    "\n",
    "Из минусов - возникнет желание использовать темную магию"
   ]
  },
  {
   "cell_type": "markdown",
   "id": "1bc28f02-595a-47ba-b148-69d90b67da70",
   "metadata": {
    "editable": true,
    "slideshow": {
     "slide_type": "subslide"
    },
    "tags": []
   },
   "source": [
    "## Возможно сейчас вы спросите"
   ]
  },
  {
   "cell_type": "markdown",
   "id": "5003819b-3f09-402c-8db1-32cc0da664a5",
   "metadata": {
    "editable": true,
    "slideshow": {
     "slide_type": "fragment"
    },
    "tags": []
   },
   "source": [
    "> А почему нету префиксов для функций `add`, `mul` и прочих для разграничения знаковых и беззнаковых чисел?"
   ]
  },
  {
   "cell_type": "markdown",
   "id": "4712d2bc-9b4a-4c8d-adf8-f970b5c1b8b5",
   "metadata": {
    "editable": true,
    "slideshow": {
     "slide_type": "fragment"
    },
    "tags": []
   },
   "source": [
    "А ответ был на втором семинаре (и на теории групп)\n",
    "\n",
    "- $a + (b + c) = (a + b) + c$\n",
    "- $\\exists 0: a + 0 = 0 + a = a$\n",
    "- $\\forall a \\exists (-a) : a + (-a) = (-a) + a = 0$"
   ]
  },
  {
   "cell_type": "markdown",
   "id": "0d1c2da0-5176-4eaa-8510-45ad9bb86599",
   "metadata": {
    "editable": true,
    "slideshow": {
     "slide_type": "fragment"
    },
    "tags": []
   },
   "source": [
    "Где мы решили, что\n",
    "\n",
    "`-1 = 255 (mod 256)`"
   ]
  },
  {
   "cell_type": "markdown",
   "id": "3d7b6c1e-f083-4300-8bc9-8e028c7e9b38",
   "metadata": {
    "editable": true,
    "slideshow": {
     "slide_type": "slide"
    },
    "tags": []
   },
   "source": [
    "# Идем смотреть примеры"
   ]
  },
  {
   "cell_type": "markdown",
   "id": "8a9681dc-2947-4c4d-9397-d55f79061358",
   "metadata": {
    "editable": true,
    "slideshow": {
     "slide_type": "slide"
    },
    "tags": []
   },
   "source": [
    "# А теперь прям совсем жесть: числа с плавающей точкой"
   ]
  },
  {
   "cell_type": "markdown",
   "id": "18ae4b53-872d-4af8-857d-8a3f59cb23bb",
   "metadata": {
    "editable": true,
    "slideshow": {
     "slide_type": "subslide"
    },
    "tags": []
   },
   "source": [
    "## Есть отдельный чип (уже нет)"
   ]
  },
  {
   "cell_type": "markdown",
   "id": "2471d186-2eb3-433d-b1a5-17a042063203",
   "metadata": {
    "editable": true,
    "slideshow": {
     "slide_type": "fragment"
    },
    "tags": []
   },
   "source": [
    "- `FPU` aka **F**loating point **P**rocessing **U**nit"
   ]
  },
  {
   "cell_type": "markdown",
   "id": "ad33cccc-fa66-4174-b6a8-727745482a5e",
   "metadata": {
    "editable": true,
    "slideshow": {
     "slide_type": "fragment"
    },
    "tags": []
   },
   "source": [
    "- у него свои регистры - `xmm0`, `xmm1`, ... размеров 128 **бит**"
   ]
  },
  {
   "cell_type": "markdown",
   "id": "c78f89e5-3632-49f0-9755-6a81e6996ccd",
   "metadata": {
    "editable": true,
    "slideshow": {
     "slide_type": "fragment"
    },
    "tags": []
   },
   "source": [
    "- и даже `ymm0` и `zmm0` (логика та же, что и с `ax`, `eax`, `rax`)"
   ]
  },
  {
   "cell_type": "markdown",
   "id": "7e5c6cfc-ec4b-4f3a-a2b9-3b22cf98cb74",
   "metadata": {
    "editable": true,
    "slideshow": {
     "slide_type": "fragment"
    },
    "tags": []
   },
   "source": [
    "- и у него свои команды"
   ]
  },
  {
   "cell_type": "markdown",
   "id": "b9d474ac-15d2-46e5-a3be-1dc12b0e2e58",
   "metadata": {
    "editable": true,
    "slideshow": {
     "slide_type": "subslide"
    },
    "tags": []
   },
   "source": [
    "## Команд довольно много..."
   ]
  },
  {
   "cell_type": "markdown",
   "id": "befe8fbc-8375-4530-a2dd-7d4b8347cec2",
   "metadata": {
    "editable": true,
    "slideshow": {
     "slide_type": "fragment"
    },
    "tags": []
   },
   "source": [
    "Копирование регистр-регистр и регистр-память\n",
    "```gas\n",
    "movsd   DST, SRC  // пересылка double\n",
    "movss   DST, SRC  // пересылка float\n",
    "```"
   ]
  },
  {
   "cell_type": "markdown",
   "id": "cfe3d536-0ce4-485b-8fb8-a467b76c1155",
   "metadata": {
    "editable": true,
    "slideshow": {
     "slide_type": "subslide"
    },
    "tags": []
   },
   "source": [
    "Арифметические\n",
    "```gas\n",
    "addsd   DST, SRC   // DST += SRC, double\n",
    "addss   DST, SRC   // DST += SRC, float\n",
    "subsd   DST, SRC   // DST -= SRC, double\n",
    "subss   DST, SRC   // DST -= SRC, float\n",
    "mulsd   DST, SRC   // DST *= SRC, double\n",
    "mulss   DST, SRC   // DST *= SRC, float\n",
    "divsd   DST, SRC   // DST /= SRC, double\n",
    "divss   DST, SRC   // DST /= SRC, float\n",
    "sqrtsd  DST, SRC   // DST = sqrt(SRC), double\n",
    "sqrtss  DST, SRC   // DST = sqrt(SRC), float\n",
    "maxsd   DST, SRC   // DST = max(DST, SRC), double\n",
    "maxss   DST, SRC   // DST = max(DST, SRC), float\n",
    "minsd   DST, SRC   // DST = min(DST, SRC), double\n",
    "minss   DST, SRC   // DST = min(DST, SRC), float\n",
    "```"
   ]
  },
  {
   "cell_type": "markdown",
   "id": "bb272fb3-ca1a-4a13-87d0-c815b4ba5789",
   "metadata": {
    "editable": true,
    "slideshow": {
     "slide_type": "subslide"
    },
    "tags": []
   },
   "source": [
    "Преобразования\n",
    "```gas\n",
    "cvtsd2si DST, SRC  // double -> int\n",
    "cvtsi2sd DST, SRC  // int -> double\n",
    "```"
   ]
  },
  {
   "cell_type": "markdown",
   "id": "2751f07f-bb93-44a8-b3e8-5b006800fba0",
   "metadata": {
    "editable": true,
    "slideshow": {
     "slide_type": ""
    },
    "tags": []
   },
   "source": [
    "Сравнения (операция DST-SRC, которая меняет флаги)\n",
    "```gas\n",
    "comisd  DST, SRC  // для double\n",
    "comiss  DST, SRC  // для float\n",
    "```"
   ]
  },
  {
   "cell_type": "markdown",
   "id": "565cfbf3-da08-4d81-8342-3e0ecb98a149",
   "metadata": {
    "editable": true,
    "slideshow": {
     "slide_type": "subslide"
    },
    "tags": []
   },
   "source": [
    "## Но даже это ещё не всё"
   ]
  },
  {
   "cell_type": "markdown",
   "id": "aca0065a-5d56-40ce-b3ce-7adc4cf61939",
   "metadata": {
    "editable": true,
    "slideshow": {
     "slide_type": ""
    },
    "tags": []
   },
   "source": [
    "можно добавить `p` и работать параллельно с несколькими числами\n",
    "\n",
    "```gas\n",
    "OPERATION p [s|d]\n",
    "```"
   ]
  },
  {
   "cell_type": "markdown",
   "id": "5a24f865-88a0-4934-bb3b-13f3911a7ea7",
   "metadata": {
    "editable": true,
    "slideshow": {
     "slide_type": ""
    },
    "tags": []
   },
   "source": [
    "- `OPERATION` - это одна из операций `add`, `mul` и т.д.\n",
    "- буква `p` в названии команды является сокращением от packed\n",
    "- `s` или `d` - это `single` или `double` точность вещественных чисел."
   ]
  },
  {
   "cell_type": "markdown",
   "id": "77c7d15e-4f88-40e6-8371-4f6da55b12a0",
   "metadata": {
    "editable": true,
    "slideshow": {
     "slide_type": "subslide"
    },
    "tags": []
   },
   "source": [
    "## Для загрузки / сохранения чуть хитрее"
   ]
  },
  {
   "cell_type": "markdown",
   "id": "b88144c0-e4f6-4139-86ab-e0dae389b956",
   "metadata": {
    "editable": true,
    "slideshow": {
     "slide_type": ""
    },
    "tags": []
   },
   "source": [
    "```gas\n",
    "mov[ap|up][s|d]   DST, SRC\n",
    "```"
   ]
  },
  {
   "cell_type": "markdown",
   "id": "46a69fbe-c4da-4237-aa96-611509804bf1",
   "metadata": {
    "editable": true,
    "slideshow": {
     "slide_type": ""
    },
    "tags": []
   },
   "source": [
    "- `ap` - загрузка/сохнанение из памяти, выровненной по границе размера регистра (16 байт)\n",
    "- `up` - для невыровненной памяти"
   ]
  },
  {
   "cell_type": "markdown",
   "id": "969b6b19-e547-4e8f-b36f-8a1f9c209c5c",
   "metadata": {
    "editable": true,
    "slideshow": {
     "slide_type": "slide"
    },
    "tags": []
   },
   "source": [
    "# Пара слов про домашку"
   ]
  },
  {
   "cell_type": "markdown",
   "id": "e10dc3a7-7c4c-4820-8198-679bbfd4961c",
   "metadata": {
    "editable": true,
    "slideshow": {
     "slide_type": "subslide"
    },
    "tags": []
   },
   "source": [
    "**в задаче со скалярным произведением**\n",
    "\n",
    "**используйте packed инструкции**"
   ]
  },
  {
   "cell_type": "markdown",
   "id": "e68b6a43-e150-4448-bddd-ac5e8b71353f",
   "metadata": {
    "editable": true,
    "slideshow": {
     "slide_type": "fragment"
    },
    "tags": []
   },
   "source": [
    "(чтоб обрабатывать считать произведения параллельно)"
   ]
  },
  {
   "cell_type": "markdown",
   "id": "7810f325-0c8e-4c55-b989-83f16d439906",
   "metadata": {
    "editable": true,
    "slideshow": {
     "slide_type": "slide"
    },
    "tags": []
   },
   "source": [
    "# adiós!"
   ]
  }
 ],
 "metadata": {
  "kernelspec": {
   "display_name": "Python 3 (ipykernel)",
   "language": "python",
   "name": "python3"
  },
  "language_info": {
   "codemirror_mode": {
    "name": "ipython",
    "version": 3
   },
   "file_extension": ".py",
   "mimetype": "text/x-python",
   "name": "python",
   "nbconvert_exporter": "python",
   "pygments_lexer": "ipython3",
   "version": "3.12.6"
  }
 },
 "nbformat": 4,
 "nbformat_minor": 5
}
