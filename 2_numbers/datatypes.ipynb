{
 "cells": [
  {
   "cell_type": "code",
   "execution_count": null,
   "id": "f43f8ae3-d39e-4ca5-9a75-be51ed117789",
   "metadata": {
    "editable": true,
    "slideshow": {
     "slide_type": "skip"
    },
    "tags": []
   },
   "outputs": [
    {
     "name": "stdout",
     "output_type": "stream",
     "text": [
      "[NbConvertApp] Converting notebook datatypes.ipynb to slides\n",
      "[NbConvertApp] Writing 271449 bytes to datatypes.slides.html\n",
      "[NbConvertApp] Redirecting reveal.js requests to https://cdnjs.cloudflare.com/ajax/libs/reveal.js/3.5.0\n",
      "Serving your slides at http://127.0.0.1:8000/datatypes.slides.html\n",
      "Use Control-C to stop this server\n"
     ]
    }
   ],
   "source": [
    "!jupyter nbconvert datatypes.ipynb --to slides --post serve"
   ]
  },
  {
   "cell_type": "markdown",
   "id": "66e0241c-701d-402a-83d3-57ca21cdbed7",
   "metadata": {
    "editable": true,
    "slideshow": {
     "slide_type": "slide"
    },
    "tags": []
   },
   "source": [
    "# Представление данных в компьютере\n",
    "\n",
    "> инты, endian-ы, флоты/даблы, кодировки"
   ]
  },
  {
   "cell_type": "markdown",
   "id": "c0e0b585-3d15-49be-a73c-d59912bd4176",
   "metadata": {
    "editable": true,
    "slideshow": {
     "slide_type": "slide"
    },
    "tags": []
   },
   "source": [
    "![rick](rick.jpg)"
   ]
  },
  {
   "cell_type": "markdown",
   "id": "fd862dec-5d10-4a00-9a08-15047ef9895c",
   "metadata": {
    "editable": true,
    "slideshow": {
     "slide_type": "slide"
    },
    "tags": []
   },
   "source": [
    "# Долги\n",
    "\n",
    "- [clang ubsan](https://clang.llvm.org/docs/UndefinedBehaviorSanitizer.html)\n",
    "- [all you need to know about ubsan](https://maskray.me/blog/2023-01-29-all-about-undefined-behavior-sanitizer)"
   ]
  },
  {
   "cell_type": "markdown",
   "id": "b4f00e51-4443-444b-9f77-ec3b06aca2e6",
   "metadata": {
    "editable": true,
    "slideshow": {
     "slide_type": "slide"
    },
    "tags": []
   },
   "source": [
    "# Список полезных сайтиков\n",
    "\n",
    "- [c(pp) to asm](https://godbolt.org/)\n",
    "- [ieee754 explorer](https://www.h-schmidt.net/FloatConverter/IEEE754.html)"
   ]
  }
 ],
 "metadata": {
  "kernelspec": {
   "display_name": "Python 3 (ipykernel)",
   "language": "python",
   "name": "python3"
  },
  "language_info": {
   "codemirror_mode": {
    "name": "ipython",
    "version": 3
   },
   "file_extension": ".py",
   "mimetype": "text/x-python",
   "name": "python",
   "nbconvert_exporter": "python",
   "pygments_lexer": "ipython3",
   "version": "3.12.4"
  }
 },
 "nbformat": 4,
 "nbformat_minor": 5
}
